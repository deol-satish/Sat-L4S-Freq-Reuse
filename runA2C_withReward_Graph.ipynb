{
 "cells": [
  {
   "cell_type": "code",
   "execution_count": null,
   "id": "59770677",
   "metadata": {},
   "outputs": [],
   "source": [
    "import gymnasium\n",
    "from stable_baselines3 import A2C\n",
    "from stable_baselines3.common.env_util import make_vec_env\n",
    "from stable_baselines3.common.callbacks import CheckpointCallback\n",
    "from utils.env import CogSatEnv\n",
    "import os"
   ]
  },
  {
   "cell_type": "code",
   "execution_count": null,
   "id": "a0fd187f",
   "metadata": {},
   "outputs": [],
   "source": [
    "channel_size_list = [10,15,20,25,30]\n",
    "leo_users_list = [10,15,20]\n",
    "geo_users_list = [10,15,20]\n",
    "\n",
    "\n",
    "count = 0\n",
    "\n",
    "for channel_size in channel_size_list:\n",
    "    for leo_users in leo_users_list:\n",
    "        for geo_users in geo_users_list:\n",
    "            saved_folder = f\"saved_data_{channel_size}_channels_{leo_users}_leo_user_{geo_users}_geo_user\"\n",
    "            print(saved_folder)  # or use it however you need\n",
    "            count+=1\n",
    "\n",
    "print(\"cpunt\",count)\n"
   ]
  },
  {
   "cell_type": "code",
   "execution_count": null,
   "id": "d6d1ec14",
   "metadata": {},
   "outputs": [],
   "source": [
    "\n",
    "\n",
    "# set the seed\n",
    "seed = 42\n",
    "\n",
    "gymnasium.register(\n",
    "    id='CogSatEnv-v1',  # Use the same ID here as you used in the script\n",
    "    entry_point='utils.env:CogSatEnv',\n",
    ")\n",
    "\n",
    "# Custom parameters\n",
    "env_config = {\n",
    "    \"no_channels\": 25,\n",
    "    \"no_leo_user\": 15,\n",
    "    \"no_geo_user\": 10,\n",
    "    \"saved_folder\": \"saved_data_15_10_10\"\n",
    "}\n",
    "\n",
    "\n",
    "# Folder name\n",
    "saved_folder = env_config[\"saved_folder\"]\n",
    "\n",
    "# Create the folder if it doesn't exist\n",
    "if not os.path.exists(saved_folder):\n",
    "    os.makedirs(saved_folder)\n",
    "    print(f\"Folder '{saved_folder}' created.\")\n",
    "else:\n",
    "    print(f\"Folder '{saved_folder}' already exists.\")\n",
    "\n",
    "\n",
    "\n",
    "import os\n",
    "os.environ[\"KMP_DUPLICATE_LIB_OK\"] = \"TRUE\"\n",
    "# Initialize the environment\n",
    "env_id = \"CogSatEnv-v1\"\n",
    "env = make_vec_env(env_id, n_envs=1, seed=seed, env_kwargs={\"env_config\": env_config})\n",
    "\n",
    "epoch_length = 122 ## got through experiment\n",
    "epoch_numbers = 4000\n",
    "\n",
    "\n",
    "# Specify the policy network architecture, here we are using the default MIP\n",
    "model = A2C(\"MultiInputPolicy\", env, verbose=1,ent_coef=0.01, tensorboard_log=\"./a2c_dsa_tensorboard/\",\n",
    "            seed=seed)\n",
    "\n",
    "# Define the total number of timesteps to train the model\n",
    "total_timesteps = epoch_length*epoch_numbers\n",
    "\n",
    "# Train the model\n",
    "model.learn(total_timesteps=total_timesteps)\n",
    "\n",
    "# Save the model\n",
    "model.save(\"a2c_cogsatenv_1\")\n",
    "\n",
    "env.close()"
   ]
  }
 ],
 "metadata": {
  "kernelspec": {
   "display_name": "cogsat",
   "language": "python",
   "name": "python3"
  },
  "language_info": {
   "codemirror_mode": {
    "name": "ipython",
    "version": 3
   },
   "file_extension": ".py",
   "mimetype": "text/x-python",
   "name": "python",
   "nbconvert_exporter": "python",
   "pygments_lexer": "ipython3",
   "version": "3.12.11"
  }
 },
 "nbformat": 4,
 "nbformat_minor": 5
}
