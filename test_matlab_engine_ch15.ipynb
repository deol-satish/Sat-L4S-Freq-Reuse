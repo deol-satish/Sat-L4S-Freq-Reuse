{
 "cells": [
  {
   "cell_type": "code",
   "execution_count": 1,
   "id": "ecb5bb45",
   "metadata": {},
   "outputs": [],
   "source": [
    "import matlab.engine\n",
    "\n",
    "# Start MATLAB\n",
    "eng = matlab.engine.start_matlab()\n",
    "\n",
    "# Add path if needed\n",
    "eng.addpath(r'./downlink_matlab_code', nargout=0)\n",
    "\n",
    "eng.eval(\"P00_Main\", nargout=0)\n",
    "\n",
    "import numpy as np\n",
    "Lat = np.array(eng.workspace['Lat'])\n",
    "\n",
    "np.save(f'Baseline_Lat.npy', Lat)\n"
   ]
  }
 ],
 "metadata": {
  "kernelspec": {
   "display_name": "cogsat",
   "language": "python",
   "name": "python3"
  },
  "language_info": {
   "codemirror_mode": {
    "name": "ipython",
    "version": 3
   },
   "file_extension": ".py",
   "mimetype": "text/x-python",
   "name": "python",
   "nbconvert_exporter": "python",
   "pygments_lexer": "ipython3",
   "version": "3.12.11"
  }
 },
 "nbformat": 4,
 "nbformat_minor": 5
}
